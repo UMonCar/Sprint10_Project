{
 "cells": [
  {
   "cell_type": "markdown",
   "metadata": {},
   "source": [
    "# Sprint 10 - Proyecto: Cómo contar una historia utilizando datos"
   ]
  },
  {
   "cell_type": "markdown",
   "metadata": {},
   "source": [
    "-   [Introducción](#introducción)\n",
    "-   [Cargar Datos](#cargar-datos)\n",
    "-   [Análisis de Datos](#análisis-de-datos)\n",
    "    -   [Gráfico de Pastel](#gráfico-de-pastel)\n",
    "    -   [Proporcion de los establecimientos que pertenecen a una cadena](#proporcion-de-los-establecimientos-que-pertenecen-a-una-cadena)\n",
    "    -   [Histogramas para análisis](#histogramas-para-análisis)\n",
    "-   [Conclusiones](#coclusiones)"
   ]
  },
  {
   "cell_type": "markdown",
   "metadata": {},
   "source": [
    "## Introducción\n",
    "\n",
    "<b> Descripción del proyecto </b>\n",
    "\n",
    "Has decidido abrir un pequeño café atendido por robots en Los Ángeles. El proyecto es prometedor pero caro, así que tú y tus compañeros decidís intentar atraer inversionistas. Están interesados en las condiciones actuales del mercado, ¿serás capaz de mantener tu éxito cuando el bombo de los camareros robot desaparezca?\n",
    "\n",
    "Eres un gurú del análisis así que te han pedido que prepares un estudio de mercado. Tienes datos procedentes de fuentes abiertas sobre restaurantes en LA.\n",
    "\n",
    "<b> Instrucciones para completar el proyecto </b>\n",
    "\n",
    "1. Descarga los datos y prepáralos para el análisis\n",
    "\n",
    "    -   Descarga los datos de los restaurantes en LA. Asegúrate de que el tipo de datos para cada columna es correcto y que no hay valores ausentes o duplicados. Procésalos si es necesario.\n",
    "    -   Ruta de archivo: /datasets/rest_data_us_upd.csv. Descargar dataset\n",
    "\n",
    "2. Análisis de datos\n",
    "\n",
    "    -   Investiga las proporciones de los distintos tipos de establecimientos. Traza un gráfico.\n",
    "    -   Investiga las proporciones de los establecimientos que pertenecen a una cadena y de los que no. Traza un gráfico.\n",
    "    -   ¿Qué tipo de establecimiento es habitualmente una cadena?\n",
    "    -   ¿Qué caracteriza a las cadenas: muchos establecimientos con un pequeño número de asientos o unos pocos establecimientos con un montón de asientos?\n",
    "    -   Determina el promedio de número de asientos para cada tipo de restaurante. De promedio, ¿qué tipo de restaurante tiene el mayor número de asientos? Traza gráficos.\n",
    "    -   Coloca los datos de los nombres de las calles de la columna address en una columna separada.\n",
    "    -   Traza un gráfico de las diez mejores calles por número de restaurantes.\n",
    "    -   a el número de calles que solo tienen un restaurante.\n",
    "    -   Para las calles con muchos restaurantes, analiza la distribución del número de asientos. ¿Qué tendencias puedes ver?\n",
    "    -   Llega a una conclusión y aporta recomendaciones sobre el tipo de restaurante y el número de asientos. Comenta la posibilidad de desarrollar una cadena.\n",
    "\n",
    "3. Preparar una presentación\n",
    "\n",
    "    -   Prepara una presentación de tu investigación para compartir con el grupo de inversionistas. Puedes utilizar cualquier herramienta para crearla pero debes convertir tu presentación a formato PDF para la evaluación. Incluye un enlace a la presentación en una celda markdown en el siguiente formato:\n",
    "    -   Presentation: \"enlace al almacenamiento en la nube\"\n",
    "    -   Sigue las directrices de formato del capítulo \"Preparar presentaciones\".\n",
    "    -   Formato: Completa el ejercicio en un Jupyter notebook. Inserta el código en las celdas code y las explicaciones de texto en las celdas markdown. Aplica formato y encabezados.\n",
    "\n",
    "Descripción de datos\n",
    "\n",
    "Tabla rest_data:\n",
    "\n",
    "-   object_name — nombre del establecimiento\n",
    "-   chain — establecimiento que pertenece a una cadena (TRUE/FALSE)\n",
    "-   object_type — tipo de establecimiento\n",
    "-   address — dirección\n",
    "-   number — número de asientos"
   ]
  },
  {
   "cell_type": "markdown",
   "metadata": {},
   "source": [
    "## Cargar datos"
   ]
  },
  {
   "cell_type": "code",
   "execution_count": 121,
   "metadata": {},
   "outputs": [],
   "source": [
    "# Cargar todas las librerías\n",
    "from scipy import stats as st\n",
    "import numpy as np\n",
    "import pandas as pd\n",
    "import math as mt\n",
    "from matplotlib import pyplot as plt\n",
    "import seaborn as sns\n",
    "import plotly.express as px\n",
    "import re\n",
    "import os\n",
    "from plotly import graph_objects as go\n",
    "from fuzzywuzzy import process"
   ]
  },
  {
   "cell_type": "code",
   "execution_count": 122,
   "metadata": {},
   "outputs": [],
   "source": [
    "def data_load():\t\n",
    "    ruta_archivo = os.path.join('datasets', 'rest_data_us_upd.csv')\n",
    "    data = pd.read_csv(\n",
    "\t    ruta_archivo,\n",
    "\t    dtype={'chain': 'category'}#, 'Source Id': 'int'}, \n",
    "\t    # parse_dates = ['End Ts', 'Start Ts'],\n",
    "\t    # nrows = 500\n",
    "\t)\n",
    "    # visits_dl.columns = ['device', 'end_ts', 'source_id', 'start_ts', 'uid']\n",
    "    return data"
   ]
  },
  {
   "cell_type": "code",
   "execution_count": 123,
   "metadata": {},
   "outputs": [],
   "source": [
    "data = data_load()"
   ]
  },
  {
   "cell_type": "code",
   "execution_count": null,
   "metadata": {},
   "outputs": [],
   "source": [
    "data.info( memory_usage= True )"
   ]
  },
  {
   "cell_type": "markdown",
   "metadata": {},
   "source": [
    "## Análisis de Datos"
   ]
  },
  {
   "cell_type": "code",
   "execution_count": 125,
   "metadata": {},
   "outputs": [],
   "source": [
    "for column in data.columns:\n",
    "    data = data.dropna(subset=[column])\n",
    "\n",
    "data['chain'] = data['chain'].map({'True': True, 'False': False})\n",
    "# data['chain'] = data['chain'].astype(bool)"
   ]
  },
  {
   "cell_type": "code",
   "execution_count": null,
   "metadata": {},
   "outputs": [],
   "source": [
    "data.head(5)"
   ]
  },
  {
   "cell_type": "code",
   "execution_count": 127,
   "metadata": {},
   "outputs": [],
   "source": [
    "def extraer_direccion(direccion):\n",
    "    # Expresión regular para capturar direcciones cardinales seguidas de un número y el nombre de la calle\n",
    "    match = re.search(r'\\b([NSEW])\\b\\s([\\dA-Za-z\\s]+)', direccion)\n",
    "    if match:\n",
    "        # Devolver dirección cardinal y nombre de la calle\n",
    "        return f\"{match.group(1)} {match.group(2).strip()}\"\n",
    "    else:\n",
    "        # Manejar direcciones sin dirección cardinal pero con nombre de calle\n",
    "        match_sin_cardinal = re.search(r'([A-Za-z\\s]+)', direccion)\n",
    "        if match_sin_cardinal:\n",
    "            return match_sin_cardinal.group(1).strip()\n",
    "    return None\n",
    "\n",
    "# Aplicar la función a la columna 'direccion'\n",
    "data['calle'] = data['address'].apply(extraer_direccion)"
   ]
  },
  {
   "cell_type": "code",
   "execution_count": 128,
   "metadata": {},
   "outputs": [],
   "source": [
    "data['calle'] = data['calle'].str.replace(r'\\s+\\d+$', '', regex=True)"
   ]
  },
  {
   "cell_type": "markdown",
   "metadata": {},
   "source": [
    "Función para normalizar los nombres de los negocios, se revisó su funcionamiento para una muestra de 500 filas, pero es muy pesado aplicarlo en el dataset completo, por eso se dejó comentada, sin embargo, con tiempo suficiente y un buen ordenador se puede aplicar."
   ]
  },
  {
   "cell_type": "code",
   "execution_count": 129,
   "metadata": {},
   "outputs": [],
   "source": [
    "# # Definir una función para encontrar el nombre más cercano\n",
    "# def get_closest_match(name, choices):\n",
    "#     match, score = process.extractOne(name, choices)\n",
    "#     return match\n",
    "\n",
    "# # Crear una lista única de nombres de negocios\n",
    "# unique_names = data['object_name'].unique()\n",
    "\n",
    "# # Crear un diccionario para mapear nombres similares a un nombre estándar\n",
    "# name_mapping = {name: get_closest_match(name, unique_names) for name in unique_names}\n",
    "\n",
    "# # Mapear los nombres en el DataFrame\n",
    "# data['normalized_negocio'] = data['object_name'].map(name_mapping)\n",
    "\n",
    "# # Mostrar el DataFrame con nombres normalizados\n",
    "# print(data[['object_name', 'normalized_negocio']])"
   ]
  },
  {
   "cell_type": "code",
   "execution_count": 130,
   "metadata": {},
   "outputs": [],
   "source": [
    "# # Guardar el dataframe resultante, para verificar el resultado de las direcciones nuevas\n",
    "# data.to_csv('direccion.csv', index= False, sep=',')"
   ]
  },
  {
   "cell_type": "code",
   "execution_count": null,
   "metadata": {},
   "outputs": [],
   "source": [
    "data.info()"
   ]
  },
  {
   "cell_type": "markdown",
   "metadata": {},
   "source": [
    "### Gráfico de Pastel"
   ]
  },
  {
   "cell_type": "code",
   "execution_count": null,
   "metadata": {},
   "outputs": [],
   "source": [
    "data_type = data.groupby(by= 'object_type', as_index= False).agg({'id' : 'count'})\n",
    "print(data_type)\n",
    "\n",
    "fig = go.Figure(data=[go.Pie(labels= data_type['object_type'], values=data_type['id'])])\n",
    "fig.show()"
   ]
  },
  {
   "cell_type": "markdown",
   "metadata": {},
   "source": [
    "### Proporcion de los establecimientos que pertenecen a una cadena"
   ]
  },
  {
   "cell_type": "code",
   "execution_count": null,
   "metadata": {},
   "outputs": [],
   "source": [
    "data_type = data.groupby(by= ['object_type', 'chain'],  observed=False).agg({'id' : 'count'})\n",
    "print(data_type)"
   ]
  },
  {
   "cell_type": "code",
   "execution_count": null,
   "metadata": {},
   "outputs": [],
   "source": [
    "fig = px.histogram(data, x='object_type', color= 'chain',  title='Proporcion de los establecimientos que pertenecen a una cadena', color_discrete_sequence=['green', 'orange'])\n",
    "fig.update_layout(\n",
    "    legend_title_text='Es cadena?', \n",
    "    xaxis_title='Tipo de Establecimiento',  # Etiqueta del eje X\n",
    "    yaxis_title='Número de Establecimientos'  # Etiqueta del eje Y\n",
    "    )\n",
    "fig.show()"
   ]
  },
  {
   "cell_type": "markdown",
   "metadata": {},
   "source": [
    "<b>Establecimientos No Cadena vs. Cadena </b>\n",
    "\n",
    "1. **Panadería**:\n",
    "   - **Cuentas No Cadena**: 0\n",
    "   - **Cuentas de Cadena**: 283\n",
    "   - **Análisis**: Todas las panaderías son cadenas, lo que sugiere que este tipo de establecimiento ha encontrado un modelo de negocio efectivo que funciona en formato de cadena. La falta de panaderías no cadena puede indicar una alta concentración en el mercado de cadenas o la dificultad para competir en este segmento.\n",
    "\n",
    "2. **Bar**:\n",
    "   - **Cuentas No Cadena**: 215\n",
    "   - **Cuentas de Cadena**: 77\n",
    "   - **Análisis**: Los bares no cadena superan en número a los de cadena, lo que podría indicar una preferencia de los consumidores por las experiencias únicas y personalizadas que suelen ofrecer los bares independientes. Esto puede representar una oportunidad para las cadenas de diferenciarse al ofrecer experiencias exclusivas o innovadoras.\n",
    "\n",
    "3. **Café**:\n",
    "   - **Cuentas No Cadena**: 169\n",
    "   - **Cuentas de Cadena**: 266\n",
    "   - **Análisis**: Aunque los cafés de cadena tienen más cuentas que los no cadena, la diferencia no es tan pronunciada. Esto sugiere que, aunque las cadenas son populares, hay un mercado considerable para los cafés independientes, posiblemente debido a la búsqueda de productos artesanales y ambientes únicos.\n",
    "\n",
    "4. **Comida Rápida**:\n",
    "   - **Cuentas No Cadena**: 461\n",
    "   - **Cuentas de Cadena**: 605\n",
    "   - **Análisis**: La comida rápida tiene una presencia fuerte tanto en cadenas como en no cadenas, pero las cadenas tienen una ligera ventaja. Esto puede reflejar la conveniencia y la velocidad del servicio que los consumidores buscan en este tipo de establecimiento, aunque hay un mercado considerable para opciones no cadena.\n",
    "\n",
    "5. **Pizza**:\n",
    "   - **Cuentas No Cadena**: 166\n",
    "   - **Cuentas de Cadena**: 153\n",
    "   - **Análisis**: La cercanía en números entre cadenas y no cadenas sugiere que los consumidores están igualmente interesados en ambas opciones. Esto puede indicar un equilibrio en la preferencia, donde algunos consumidores prefieren la variedad y el sabor local de las pizzerías no cadena, mientras que otros eligen la consistencia de las cadenas.\n",
    "\n",
    "6. **Restaurante**:\n",
    "   - **Cuentas No Cadena**: 4961\n",
    "   - **Cuentas de Cadena**: 2292\n",
    "   - **Análisis**: Los restaurantes no cadena dominan claramente en este segmento, lo que indica que los consumidores valoran las experiencias culinarias únicas y personalizadas que ofrecen los restaurantes independientes. Esto representa una oportunidad significativa para las cadenas de restaurantes que buscan aumentar su cuota de mercado, quizás mediante la innovación en el menú o la mejora del servicio.\n",
    "\n",
    "<b> Conclusión General </b>\n",
    "- En la mayoría de los casos, los establecimientos de cadena parecen atraer a más clientes, pero hay excepciones notables como las panaderías y los bares, donde las no cadenas son más populares. Esto sugiere que las preferencias de los consumidores varían según el tipo de establecimiento, y las cadenas deben considerar estrategias específicas para atraer a diferentes segmentos de clientes.\n",
    "- La presencia significativa de establecimientos no cadena en los restaurantes y bares indica un mercado potencial donde las cadenas podrían mejorar su presencia mediante la creación de experiencias más únicas y personalizadas, adaptándose a las preferencias locales."
   ]
  },
  {
   "cell_type": "markdown",
   "metadata": {},
   "source": [
    "### Histogramas para análisis"
   ]
  },
  {
   "cell_type": "code",
   "execution_count": null,
   "metadata": {},
   "outputs": [],
   "source": [
    "chain = data[data['chain'] == True]\n",
    "\n",
    "x_values = pd.Series(range(0,len(chain)))\n",
    "\n",
    "plt.scatter(x_values, chain['number'])\n",
    "\n",
    "percentiles = np.percentile(chain['number'], [90, 95, 99])\n",
    "\n",
    "print(f'Percentiles los asientos de establecimientos que son cadena:\\n', '[90 95 99] % \\n', percentiles, '$')"
   ]
  },
  {
   "cell_type": "code",
   "execution_count": null,
   "metadata": {},
   "outputs": [],
   "source": [
    "chain = data[(data['chain'] == True) & (data['number'] <= 140)]\n",
    "print(chain['number'].mean())\n",
    "\n",
    "sns.distplot(chain['number'], bins=10)"
   ]
  },
  {
   "cell_type": "markdown",
   "metadata": {},
   "source": [
    "El histograma que proporcionas muestra la distribución de un conjunto de datos que parecen representar el número de asientos en distintos restaurantes. A continuación, algunos puntos clave del análisis:\n",
    "\n",
    "1. **Distribución Sesgada a la Derecha**: \n",
    "   La mayoría de los restaurantes parecen tener menos de 50 asientos, ya que la densidad es mayor entre 0 y 50. Sin embargo, hay un grupo reducido de restaurantes con más asientos, ya que se observan valores hasta alrededor de 150, aunque la frecuencia es mucho menor.\n",
    "\n",
    "2. **Moda**: \n",
    "   El pico más alto está alrededor de los 20-30 asientos. Esto indica que la mayoría de los restaurantes en el conjunto de datos tienden a tener este número de asientos.\n",
    "\n",
    "3. **Cola Larga**: \n",
    "   Se observa una cola en la parte derecha del histograma, lo que sugiere que aunque hay pocos restaurantes con un número de asientos más alto (por encima de 75), algunos alcanzan hasta aproximadamente 150 asientos.\n",
    "\n",
    "4. **Posible Presencia de Outliers**: \n",
    "   En la zona de asientos superiores a 100, puede haber algunos valores atípicos o restaurantes mucho más grandes, pero la frecuencia es muy baja.\n",
    "\n",
    "5. **Rango de Datos**:\n",
    "   Los datos parecen estar distribuidos entre aproximadamente 0 y 150 asientos, pero con una gran concentración de restaurantes en los primeros 50 asientos.\n",
    "\n",
    "Este gráfico muestra una distribución típica en sectores como la restauración, donde muchos restaurantes tienden a ser pequeños o medianos, con unos pocos establecimientos mucho más grandes que cuentan con más asientos."
   ]
  },
  {
   "cell_type": "code",
   "execution_count": null,
   "metadata": {},
   "outputs": [],
   "source": [
    "fig = px.histogram(chain, x='number',  title='Histograma del número de asientos de establecimientos que son cadenas', color_discrete_sequence=['orange'], nbins= 20)\n",
    "fig.update_layout(\n",
    "    legend_title_text='Es cadena?', \n",
    "    yaxis_title='Frecuencia',  # Etiqueta del eje X\n",
    "    xaxis_title='Número de asientos'  # Etiqueta del eje Y\n",
    "    )\n",
    "fig.show()"
   ]
  },
  {
   "cell_type": "code",
   "execution_count": null,
   "metadata": {},
   "outputs": [],
   "source": [
    "chainNo = data[data['chain'] == False]\n",
    "\n",
    "x_values = pd.Series(range(0,len(chainNo)))\n",
    "\n",
    "plt.scatter(x_values, chainNo['number'])\n",
    "\n",
    "percentiles = np.percentile(chainNo['number'], [90, 95, 99])\n",
    "\n",
    "print(f'Percentiles los asientos de establecimientos que no son cadena:\\n', '[90 95 99] % \\n', percentiles, '$')"
   ]
  },
  {
   "cell_type": "code",
   "execution_count": null,
   "metadata": {},
   "outputs": [],
   "source": [
    "chainNo = data[(data['chain'] == False) & (data['number'] <= 160)]\n",
    "print(chainNo['number'].mean())\n",
    "\n",
    "sns.distplot(chainNo['number'], bins=10)"
   ]
  },
  {
   "cell_type": "markdown",
   "metadata": {},
   "source": [
    "El histograma que proporcionas muestra la distribución de un conjunto de datos que parecen representar el número de asientos en distintos establecimientos. A continuación, algunos puntos clave del análisis:\n",
    "\n",
    "1. **Distribución Sesgada a la Derecha**: \n",
    "   La mayoría de los establecimientos parecen tener menos de 50 asientos, ya que la densidad es mayor entre 0 y 50. Sin embargo, hay un grupo reducido de establecimientos con más asientos, ya que se observan valores hasta alrededor de 150, aunque la frecuencia es mucho menor, aunque mayor que en los establecimientos tipo cadena.\n",
    "\n",
    "2. **Moda**: \n",
    "   El pico más alto está alrededor de los 0-10 asientos. Esto indica que la mayoría de los establecimientos en el conjunto de datos tienden a tener este número de asientos.\n",
    "\n",
    "3. **Cola Larga**: \n",
    "   Se observa una cola en la parte derecha del histograma, lo que sugiere que aunque hay pocos establecimientos con un número de asientos más alto (por encima de 75), algunos alcanzan hasta aproximadamente 150 asientos.\n",
    "\n",
    "4. **Posible Presencia de Outliers**: \n",
    "   En la zona de asientos superiores a 100, puede haber algunos valores atípicos o establecimientos mucho más grandes, pero la frecuencia es muy baja.\n",
    "\n",
    "5. **Rango de Datos**:\n",
    "   Los datos parecen estar distribuidos entre aproximadamente 0 y 150 asientos, pero con una gran concentración de establecimientos en los primeros 50 asientos.\n",
    "\n",
    "Este gráfico muestra una distribución típica en sectores como la restauración, donde muchos establecimientos tienden a ser pequeños o medianos, con unos pocos establecimientos mucho más grandes que cuentan con más asientos."
   ]
  },
  {
   "cell_type": "code",
   "execution_count": null,
   "metadata": {},
   "outputs": [],
   "source": [
    "fig = px.histogram(chainNo, x='number',  title='Histograma del número de asientos de establecimientos que no son cadenas', color_discrete_sequence=['green'], nbins= 20)\n",
    "fig.update_layout(\n",
    "    legend_title_text='Es cadena?', \n",
    "    yaxis_title='Frecuencia',  # Etiqueta del eje X\n",
    "    xaxis_title='Número de asientos'  # Etiqueta del eje Y\n",
    "    )\n",
    "fig.show()"
   ]
  },
  {
   "cell_type": "code",
   "execution_count": 141,
   "metadata": {},
   "outputs": [],
   "source": [
    "data_95 = pd.concat([chain, chainNo], axis=0)"
   ]
  },
  {
   "cell_type": "code",
   "execution_count": null,
   "metadata": {},
   "outputs": [],
   "source": [
    "fig = px.histogram(data_95, x='number', color= 'chain',  title='Histograma del número de asientos de establecimientos', color_discrete_sequence=['green', 'orange'])\n",
    "fig.update_layout(\n",
    "    legend_title_text='Es cadena?', \n",
    "    yaxis_title='Frecuencia',  # Etiqueta del eje X\n",
    "    xaxis_title='Número de asientos'  # Etiqueta del eje Y\n",
    "    )\n",
    "fig.show()"
   ]
  },
  {
   "cell_type": "code",
   "execution_count": null,
   "metadata": {},
   "outputs": [],
   "source": [
    "data_95 = data_95[data_95['number'] <= 50]\n",
    "fig = px.histogram(data_95, x='number', color= 'chain',  title='Histograma del número de asientos de establecimientos [0 - 50]', color_discrete_sequence=['green', 'orange'])\n",
    "fig.update_layout(\n",
    "    legend_title_text='Es cadena?', \n",
    "    yaxis_title='Frecuencia',  # Etiqueta del eje X\n",
    "    xaxis_title='Número de asientos'  # Etiqueta del eje Y\n",
    "    )\n",
    "fig.show()"
   ]
  },
  {
   "cell_type": "code",
   "execution_count": null,
   "metadata": {},
   "outputs": [],
   "source": [
    "streets = data.groupby(by= 'calle', as_index = False).agg({'object_name' : 'count'})\n",
    "streets = streets.sort_values(by = 'object_name', ascending= False)\n",
    "print(streets.head(10))"
   ]
  },
  {
   "cell_type": "code",
   "execution_count": null,
   "metadata": {},
   "outputs": [],
   "source": [
    "fig = px.bar(streets.head(10), x='calle', y= 'object_name',  title='Número de establecimientos por calle')\n",
    "fig.update_layout(\n",
    "    xaxis_title='Calle',  # Etiqueta del eje X\n",
    "    yaxis_title= 'Cantidad de  establecimientos'  # Etiqueta del eje Y\n",
    "    )\n",
    "fig.show()"
   ]
  },
  {
   "cell_type": "code",
   "execution_count": null,
   "metadata": {},
   "outputs": [],
   "source": [
    "streets = streets.sort_values(by = 'object_name')\n",
    "print(streets[streets['object_name'] == 1])"
   ]
  },
  {
   "cell_type": "code",
   "execution_count": null,
   "metadata": {},
   "outputs": [],
   "source": [
    "streets = streets.sort_values(by = 'object_name', ascending= False)\n",
    "# data_street = data[data['calle']]\n",
    "street_names = streets['calle'].head(10).tolist()\n",
    "print(street_names)"
   ]
  },
  {
   "cell_type": "code",
   "execution_count": 148,
   "metadata": {},
   "outputs": [],
   "source": [
    "data_filtro_streets = data[data['calle'].isin(street_names)]\n",
    "data_filtro_streets = data_filtro_streets[data_filtro_streets['number'] <= 50]"
   ]
  },
  {
   "cell_type": "code",
   "execution_count": null,
   "metadata": {},
   "outputs": [],
   "source": [
    "fig = px.histogram(data_filtro_streets, x='number', color= 'calle',  title='Distribución del número de asientos', nbins=25)\n",
    "fig.update_layout(\n",
    "    legend_title_text='Calle', \n",
    "    xaxis_title='Cantidad de asientos',  # Etiqueta del eje X\n",
    "    yaxis_title= 'Frecuencia'  # Etiqueta del eje Y\n",
    "    )\n",
    "fig.show()"
   ]
  },
  {
   "cell_type": "code",
   "execution_count": null,
   "metadata": {},
   "outputs": [],
   "source": [
    "fig = px.histogram(data_filtro_streets, x='number',  title='Distribución del número de asientos', nbins=25)\n",
    "fig.update_layout(\n",
    "    legend_title_text='Calle', \n",
    "    xaxis_title='Cantidad de asientos',  # Etiqueta del eje X\n",
    "    yaxis_title= 'Frecuencia'  # Etiqueta del eje Y\n",
    "    )\n",
    "fig.show()"
   ]
  },
  {
   "cell_type": "markdown",
   "metadata": {},
   "source": [
    "La gráfica que compartes es un histograma apilado que representa la distribución del número de asientos en negocios relacionados con la comida, distribuidos en diferentes calles. A continuación, un análisis detallado:\n",
    "\n",
    "<b> 1. **Distribución General**: </b>\n",
    "   - El gráfico muestra la cantidad de asientos en el eje X, con valores que parecen estar en el rango de 0 a 50.\n",
    "   - En el eje Y se muestra la **frecuencia** (número de negocios), que alcanza hasta aproximadamente 80.\n",
    "   - Cada barra representa un rango de asientos y está segmentada por color, donde cada color representa una calle diferente. Esto permite ver no solo cuántos negocios hay en cada rango de asientos, sino también cómo se distribuyen esos negocios entre las diferentes calles.\n",
    "\n",
    "<b> 2. **Calles Más Representadas**: </b>\n",
    "   - Las calles con mayor representación en términos de número de negocios parecen ser **HOLLYWOOD BLVD**, **SANTA MONICA BLVD**, **W PICO BLVD** y **W OLYMPIC BLVD**, dado que estas ocupan las mayores porciones de las barras en varios rangos de asientos.\n",
    "   - Las calles menos representadas son **S VERMONT AVE**, **S WESTERN AVE**, y **S FIGUEROA ST**, ya que aparecen con menos frecuencia en las barras y ocupan menos espacio.\n",
    "\n",
    "<b> 3. **Distribución por Número de Asientos**: </b>\n",
    "   - El rango de asientos parece estar bastante disperso entre 0 y 50, pero no se observa un patrón claro donde una cantidad específica de asientos sea dominante.\n",
    "   - La distribución es bastante uniforme, lo que significa que no hay un pico claro de negocios con un número específico de asientos, sino que hay una representación variada en casi todos los rangos de asientos.\n",
    "\n",
    "<b> 4. **Tendencias por Calle**: </b>\n",
    "   - **HOLLYWOOD BLVD** tiene una presencia constante en casi todos los rangos de asientos, especialmente en aquellos con entre 0 y 40 asientos. Esto sugiere que en esta calle hay una diversidad considerable en cuanto al tamaño de los negocios.\n",
    "   - **SANTA MONICA BLVD** también parece tener una presencia significativa en casi todos los rangos de asientos, lo que indica que esta calle tiene negocios de diferentes tamaños.\n",
    "   - Otras calles como **W SUNSET BLVD** y **WILSHIRE BLVD** tienen representación, pero no tan consistente como las dos anteriores, lo que podría sugerir que hay una menor concentración de negocios o que estos tienen una capacidad más específica.\n",
    "\n",
    "<b> 5. **Patrones Generales**: </b>\n",
    "   - El gráfico no muestra una gran concentración en ningún rango específico de asientos; más bien, la distribución es más dispersa y las calles tienen una mezcla de tamaños de negocios.\n",
    "   - Es interesante notar cómo algunas calles tienen una mayor proporción en ciertos rangos de asientos, lo que podría indicar que las políticas urbanas o el tipo de clientes en esas calles influyen en el tamaño de los negocios.\n",
    "\n",
    "<b> 6. **Posibles Insights**: </b>\n",
    "   - Si el objetivo es identificar las calles con mayor diversidad en cuanto a la capacidad de asientos, **HOLLYWOOD BLVD** y **SANTA MONICA BLVD** son las más relevantes, ya que tienen representación en casi todos los rangos de asientos.\n",
    "   - Si te interesa localizar calles con negocios más pequeños (menos de 10 asientos), podrías enfocarte en calles como **S VERMONT AVE** y **S WESTERN AVE**, que tienen menor representación en los rangos superiores.\n",
    "   - Para áreas con negocios más grandes, algunas calles como **WILSHIRE BLVD** parecen tener una mayor presencia en los rangos superiores de 40-50 asientos.\n",
    "\n",
    "<b> Conclusión: </b>\n",
    "Este gráfico permite ver de manera efectiva cómo están distribuidos los tamaños de los negocios en distintas calles. Puedes observar patrones interesantes en cuanto a la diversidad de tamaños de los establecimientos en diferentes calles, lo que puede ser útil para análisis de planificación urbana, marketing o estudios de mercado.\n",
    "\n",
    "Si deseas hacer ajustes en la gráfica o comparar estas calles con otras variables, como el tipo de negocio o su rentabilidad, también es posible profundizar en el análisis."
   ]
  },
  {
   "cell_type": "markdown",
   "metadata": {},
   "source": [
    "### Coclusiones\n",
    "\n",
    "Para maximizar las probabilidades de éxito de un café atendido por robots en Los Ángeles y atraer inversionistas, es importante considerar la información obtenida de las gráficas analizadas sobre la distribución de negocios relacionados con la comida en diversas calles de la ciudad.\n",
    "\n",
    "<b> Recomendaciones sobre el tipo de establecimiento: </b>\n",
    "\n",
    "<b> 1. **Innovación Tecnológica**: </b>\n",
    "   Un café atendido por robots es una propuesta altamente innovadora, lo cual ya te da una ventaja competitiva. El enfoque debería ser en **cafeterías de experiencia** que se enfoquen no solo en la calidad del producto, sino en la atracción del cliente por la novedad del servicio robótico. Puedes ofrecer:\n",
    "   - Demostraciones de los robots en acción, donde los clientes puedan interactuar de alguna manera con ellos.\n",
    "   - Automatización completa desde la toma de órdenes hasta la entrega de productos.\n",
    "\n",
    "<b> 2. **Ubicación**: </b>\n",
    "   Con base en las gráficas que muestran la distribución de asientos por calle, algunas calles clave tienen una mayor diversidad de tamaño de negocios y tráfico:\n",
    "   - **HOLLYWOOD BLVD** y **SANTA MONICA BLVD** son lugares muy concurridos con una amplia variedad de negocios de todos los tamaños, lo que sugiere una alta afluencia de clientes.\n",
    "   - Estas calles atraen tanto a residentes como a turistas, por lo que podrías ubicar tu café en una de ellas para aprovechar el flujo constante de personas.\n",
    "   \n",
    "   Además, las calles como **WILSHIRE BLVD** o **W SUNSET BLVD** también podrían ser buenas opciones para un concepto innovador como el tuyo, aunque quizás más orientado hacia la clase media-alta o clientes más interesados en la tecnología.\n",
    "\n",
    "<b> Recomendaciones sobre el tamaño del establecimiento: </b>\n",
    "\n",
    "<b> 1. **Cantidad de Asientos**: </b>\n",
    "   Basándonos en los histogramas, la mayoría de los negocios tienen entre 20 y 30 asientos, lo que sugiere que esta es la capacidad ideal para una pequeña cafetería en Los Ángeles. Esto parece estar relacionado con los espacios urbanos más compactos y la rentabilidad de los locales pequeños.\n",
    "   \n",
    "   **Propuesta de asientos**:\n",
    "   - **20 a 30 asientos**: Es un rango adecuado para comenzar sin incurrir en altos costos de mantenimiento o renta. Además, este tamaño te permitirá una alta rotación de clientes sin comprometer la comodidad.\n",
    "   - Puedes considerar algunos asientos al aire libre si las regulaciones locales lo permiten, lo que también atrae a personas que prefieren estar al aire libre, especialmente en una ciudad como Los Ángeles con buen clima.\n",
    "\n",
    "<b> 2. **Flexibilidad**: </b>\n",
    "   Dado que tu propuesta es innovadora, puedes adoptar un enfoque más flexible, tal vez con algunos asientos de \"alta tecnología\" (como estaciones de carga inalámbrica, interacción con los robots), lo cual podría atraer a clientes que buscan una experiencia única más que solo un lugar para sentarse.\n",
    "\n",
    "<b> Factores adicionales a considerar para los inversionistas: </b>\n",
    "\n",
    "1. **Mercado turístico**: Los Ángeles atrae millones de turistas cada año, y tu café atendido por robots puede convertirse en un atractivo turístico en sí mismo, sobre todo en áreas como Hollywood o Santa Monica.\n",
    "   \n",
    "2. **Enfoque en la eficiencia**: Los inversionistas estarán interesados en cómo la tecnología robótica puede mejorar la eficiencia y reducir los costos operativos, un punto clave que debes resaltar. Puedes destacar que:\n",
    "   - El uso de robots minimiza errores en las órdenes.\n",
    "   - Los costos laborales se reducen, permitiendo un margen más alto de rentabilidad a largo plazo.\n",
    "\n",
    "3. **Estrategias de marketing**: El concepto de un café atendido por robots es atractivo para redes sociales y prensa, lo cual te da una oportunidad de aprovechar la promoción viral y generar publicidad orgánica. Considera incluir una estrategia de marketing sólida que resalte la innovación tecnológica y la experiencia única.\n",
    "\n",
    "<b> Comentarios finales </b>\n",
    "\n",
    "Para atraer inversionistas y mejorar las probabilidades de éxito en el mercado de Los Ángeles, te recomendaría:\n",
    "- **Abrir un café con 20 a 30 asientos** para equilibrar el costo inicial con la demanda esperada.\n",
    "- **Ubicar el café en zonas concurridas** como **HOLLYWOOD BLVD** o **SANTA MONICA BLVD** donde la afluencia de público y el interés por experiencias innovadoras es mayor.\n",
    "- **Destacar la propuesta de valor tecnológica y la eficiencia** en términos de ahorro de costos operativos."
   ]
  },
  {
   "cell_type": "markdown",
   "metadata": {},
   "source": []
  }
 ],
 "metadata": {
  "kernelspec": {
   "display_name": "Python 3",
   "language": "python",
   "name": "python3"
  },
  "language_info": {
   "codemirror_mode": {
    "name": "ipython",
    "version": 3
   },
   "file_extension": ".py",
   "mimetype": "text/x-python",
   "name": "python",
   "nbconvert_exporter": "python",
   "pygments_lexer": "ipython3",
   "version": "3.12.0"
  }
 },
 "nbformat": 4,
 "nbformat_minor": 2
}
